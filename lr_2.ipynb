{
  "cells": [
    {
      "cell_type": "markdown",
      "metadata": {
        "id": "view-in-github",
        "colab_type": "text"
      },
      "source": [
        "<a href=\"https://colab.research.google.com/github/Keira19101/inc0gnida/blob/main/lr_2.ipynb\" target=\"_parent\"><img src=\"https://colab.research.google.com/assets/colab-badge.svg\" alt=\"Open In Colab\"/></a>"
      ]
    },
    {
      "cell_type": "markdown",
      "id": "55cbec1c",
      "metadata": {
        "id": "55cbec1c"
      },
      "source": [
        "ЛР_2_ТаборкинаКира_продолжение_лр1"
      ]
    },
    {
      "cell_type": "code",
      "execution_count": null,
      "id": "74359e2a",
      "metadata": {
        "id": "74359e2a"
      },
      "outputs": [],
      "source": [
        "from sklearn.impute import SimpleImputer\n",
        "\n",
        "imp = SimpleImputer(strategy='median')\n"
      ]
    },
    {
      "cell_type": "code",
      "execution_count": null,
      "id": "91374716",
      "metadata": {
        "id": "91374716",
        "outputId": "4d2befd3-a36e-43ba-9a01-7e698d2aa2dd"
      },
      "outputs": [
        {
          "data": {
            "text/plain": [
              "array([ True,  True,  True,  True,  True,  True,  True,  True])"
            ]
          },
          "execution_count": 31,
          "metadata": {},
          "output_type": "execute_result"
        }
      ],
      "source": [
        "data_num = data.drop('glucose_category', axis = 1)\n",
        "data_num = data_num.replace((np.inf, -np.inf, np.nan), 0).reset_index(drop=True)\n",
        "imp.fit(data_num)\n",
        "imp.statistics_ == data_num.median().values"
      ]
    },
    {
      "cell_type": "code",
      "execution_count": null,
      "id": "3029d202",
      "metadata": {
        "id": "3029d202"
      },
      "outputs": [],
      "source": [
        "X = imp.transform(data_num)"
      ]
    },
    {
      "cell_type": "code",
      "execution_count": null,
      "id": "900403e8",
      "metadata": {
        "id": "900403e8"
      },
      "outputs": [],
      "source": [
        "data_tranformed = pd.DataFrame(X, columns=data_num.columns,index=data_num.index)"
      ]
    },
    {
      "cell_type": "code",
      "execution_count": null,
      "id": "dbb74340",
      "metadata": {
        "id": "dbb74340",
        "outputId": "f042a2a1-1424-4012-d329-21d6aa680484"
      },
      "outputs": [
        {
          "data": {
            "text/html": [
              "<div>\n",
              "<style scoped>\n",
              "    .dataframe tbody tr th:only-of-type {\n",
              "        vertical-align: middle;\n",
              "    }\n",
              "\n",
              "    .dataframe tbody tr th {\n",
              "        vertical-align: top;\n",
              "    }\n",
              "\n",
              "    .dataframe thead th {\n",
              "        text-align: right;\n",
              "    }\n",
              "</style>\n",
              "<table border=\"1\" class=\"dataframe\">\n",
              "  <thead>\n",
              "    <tr style=\"text-align: right;\">\n",
              "      <th></th>\n",
              "      <th>glucose_category</th>\n",
              "    </tr>\n",
              "  </thead>\n",
              "  <tbody>\n",
              "    <tr>\n",
              "      <th>566</th>\n",
              "      <td>2</td>\n",
              "    </tr>\n",
              "    <tr>\n",
              "      <th>703</th>\n",
              "      <td>3</td>\n",
              "    </tr>\n",
              "    <tr>\n",
              "      <th>73</th>\n",
              "      <td>3</td>\n",
              "    </tr>\n",
              "    <tr>\n",
              "      <th>46</th>\n",
              "      <td>3</td>\n",
              "    </tr>\n",
              "    <tr>\n",
              "      <th>643</th>\n",
              "      <td>2</td>\n",
              "    </tr>\n",
              "    <tr>\n",
              "      <th>...</th>\n",
              "      <td>...</td>\n",
              "    </tr>\n",
              "    <tr>\n",
              "      <th>280</th>\n",
              "      <td>3</td>\n",
              "    </tr>\n",
              "    <tr>\n",
              "      <th>34</th>\n",
              "      <td>3</td>\n",
              "    </tr>\n",
              "    <tr>\n",
              "      <th>256</th>\n",
              "      <td>3</td>\n",
              "    </tr>\n",
              "    <tr>\n",
              "      <th>564</th>\n",
              "      <td>2</td>\n",
              "    </tr>\n",
              "    <tr>\n",
              "      <th>148</th>\n",
              "      <td>3</td>\n",
              "    </tr>\n",
              "  </tbody>\n",
              "</table>\n",
              "<p>614 rows × 1 columns</p>\n",
              "</div>"
            ],
            "text/plain": [
              "    glucose_category\n",
              "566                2\n",
              "703                3\n",
              "73                 3\n",
              "46                 3\n",
              "643                2\n",
              "..               ...\n",
              "280                3\n",
              "34                 3\n",
              "256                3\n",
              "564                2\n",
              "148                3\n",
              "\n",
              "[614 rows x 1 columns]"
            ]
          },
          "execution_count": 34,
          "metadata": {},
          "output_type": "execute_result"
        }
      ],
      "source": [
        "data_category = data[['glucose_category']]\n",
        "data_category"
      ]
    },
    {
      "cell_type": "markdown",
      "source": [
        "Software Pipelining"
      ],
      "metadata": {
        "id": "9R6hEZnrIQYz"
      },
      "id": "9R6hEZnrIQYz"
    },
    {
      "cell_type": "code",
      "execution_count": null,
      "id": "fa2c5065",
      "metadata": {
        "id": "fa2c5065"
      },
      "outputs": [],
      "source": [
        "from sklearn.pipeline import Pipeline\n",
        "from sklearn.preprocessing import StandardScaler"
      ]
    },
    {
      "cell_type": "code",
      "execution_count": null,
      "id": "f07e70b8",
      "metadata": {
        "id": "f07e70b8"
      },
      "outputs": [],
      "source": [
        "pipeline = Pipeline([\n",
        "    ('imputer',SimpleImputer(strategy='median')),\n",
        "    ('std_scaler', StandardScaler())\n",
        "])\n",
        "\n",
        "data_num_transformed = pipeline.fit_transform(data_num)"
      ]
    },
    {
      "cell_type": "code",
      "execution_count": null,
      "id": "f8c9fff0",
      "metadata": {
        "id": "f8c9fff0"
      },
      "outputs": [],
      "source": [
        "from sklearn.compose import ColumnTransformer\n",
        "num_attributes = list(data_num)\n",
        "cat_attributes = ['glucose_category']\n",
        "\n",
        "full_pipeline = ColumnTransformer([\n",
        "    (\"num\", pipeline,num_attributes),\n",
        "    (\"cat\", OneHotEncoder(),cat_attributes)\n",
        "])\n",
        "\n",
        "\n",
        "data_prepared = full_pipeline.fit_transform(data)"
      ]
    },
    {
      "cell_type": "markdown",
      "source": [
        "Обучение"
      ],
      "metadata": {
        "id": "nXbCJY20IpNs"
      },
      "id": "nXbCJY20IpNs"
    },
    {
      "cell_type": "code",
      "execution_count": null,
      "id": "a53506c7",
      "metadata": {
        "id": "a53506c7",
        "outputId": "bec52d25-0c17-4645-95f6-5f2abf42b5d3"
      },
      "outputs": [
        {
          "data": {
            "text/plain": [
              "LinearRegression()"
            ]
          },
          "execution_count": 44,
          "metadata": {},
          "output_type": "execute_result"
        }
      ],
      "source": [
        "from sklearn.linear_model import LinearRegression\n",
        "model = LinearRegression()\n",
        "model.fit(data_prepared,diabetes_labels)"
      ]
    },
    {
      "cell_type": "code",
      "execution_count": null,
      "id": "db74f2a6",
      "metadata": {
        "id": "db74f2a6",
        "outputId": "2163801c-a8bc-4230-8d9f-5f8934f025e3"
      },
      "outputs": [
        {
          "name": "stdout",
          "output_type": "stream",
          "text": [
            "Прогнозы: [ 87.02003008 123.39067831 121.8971529  120.82094798  88.11625336]\n",
            "Метки: [99, 129, 129, 146, 90]\n"
          ]
        }
      ],
      "source": [
        "some_data = data.iloc[:5]\n",
        "data_labels = diabetes_labels.iloc[:5]\n",
        "data_prepared_some = full_pipeline.transform(some_data)\n",
        "print(\"Прогнозы:\", model.predict(data_prepared_some))\n",
        "print(\"Метки:\",list(data_labels))"
      ]
    },
    {
      "cell_type": "code",
      "execution_count": null,
      "id": "e3d59e50",
      "metadata": {
        "id": "e3d59e50",
        "outputId": "8ad178f6-45d3-4b4c-88f6-740c0d0423a4"
      },
      "outputs": [
        {
          "name": "stdout",
          "output_type": "stream",
          "text": [
            "0.0\n"
          ]
        }
      ],
      "source": [
        "data_predictions = tree_regressor.predict(data_prepared)\n",
        "linear_mse = mean_squared_error(diabetes_labels, data_predictions)\n",
        "lin_rmse = np.sqrt(linear_mse)\n",
        "print(lin_rmse)"
      ]
    },
    {
      "cell_type": "markdown",
      "source": [
        "Cross-Validation"
      ],
      "metadata": {
        "id": "nznhSZV5Jf0a"
      },
      "id": "nznhSZV5Jf0a"
    },
    {
      "cell_type": "code",
      "execution_count": null,
      "id": "56965c3e",
      "metadata": {
        "id": "56965c3e"
      },
      "outputs": [],
      "source": [
        "from sklearn.model_selection import cross_val_score\n",
        "scores = cross_val_score(tree_regressor,data_prepared,diabetes_labels,scoring='neg_mean_squared_error') \n",
        "\n",
        "scores = np.sqrt(-scores)"
      ]
    },
    {
      "cell_type": "code",
      "execution_count": null,
      "id": "a7b3b432",
      "metadata": {
        "id": "a7b3b432",
        "outputId": "a9a4f383-daca-4eb6-9d82-924eb6edb87f"
      },
      "outputs": [
        {
          "name": "stdout",
          "output_type": "stream",
          "text": [
            "Оценки: [17.26079255 17.74732317 16.94107435 18.9185245  18.65629591]\n",
            "Среднее: 17.90480209349598\n",
            "Стандартное отклонение: 0.7695057040686564\n"
          ]
        }
      ],
      "source": [
        "def display_scores(scores):\n",
        "    print(\"Оценки:\",scores)\n",
        "    print(\"Среднее:\", scores.mean())\n",
        "    print(\"Стандартное отклонение:\",scores.std())\n",
        "\n",
        "display_scores(scores)"
      ]
    },
    {
      "cell_type": "markdown",
      "source": [
        "Fine-Tunning"
      ],
      "metadata": {
        "id": "MRtXpSUiJqik"
      },
      "id": "MRtXpSUiJqik"
    },
    {
      "cell_type": "code",
      "execution_count": null,
      "id": "f9c11a2f",
      "metadata": {
        "id": "f9c11a2f",
        "outputId": "9fd8aab4-7584-4fb0-c37e-6fa4443679c5"
      },
      "outputs": [
        {
          "data": {
            "text/plain": [
              "GridSearchCV(cv=5, estimator=RandomForestRegressor(),\n",
              "             param_grid=[{'max_features': [2, 4, 7],\n",
              "                          'n_estimators': [3, 10, 30]},\n",
              "                         {'bootstrap': [False], 'max_features': [2, 3, 4],\n",
              "                          'n_estimators': [3, 10, 30]}],\n",
              "             return_train_score=True, scoring='neg_mean_squared_error')"
            ]
          },
          "execution_count": 55,
          "metadata": {},
          "output_type": "execute_result"
        }
      ],
      "source": [
        "from sklearn.model_selection import GridSearchCV\n",
        "\n",
        "param_grid = [\n",
        "    {\n",
        "        'n_estimators':[3,10,30], 'max_features':[2,4,7]\n",
        "    }, \n",
        "    {\n",
        "        'bootstrap':[False],'n_estimators':[3,10,30],'max_features':[2,3,4]   \n",
        "    }\n",
        "]\n",
        "\n",
        "regressor = RandomForestRegressor()\n",
        "grid_search = GridSearchCV(regressor,param_grid=param_grid, cv=5, scoring='neg_mean_squared_error',return_train_score=True)\n",
        "grid_search.fit(data_prepared,diabetes_labels)"
      ]
    },
    {
      "cell_type": "code",
      "execution_count": null,
      "id": "b7f55634",
      "metadata": {
        "id": "b7f55634",
        "outputId": "178a587f-584c-47af-b8d9-e6510fa277dc"
      },
      "outputs": [
        {
          "name": "stdout",
          "output_type": "stream",
          "text": [
            "17.709739341234464 {'max_features': 2, 'n_estimators': 3}\n",
            "15.31778802616947 {'max_features': 2, 'n_estimators': 10}\n",
            "15.059743118022086 {'max_features': 2, 'n_estimators': 30}\n",
            "16.228180494646864 {'max_features': 4, 'n_estimators': 3}\n",
            "14.203574495713555 {'max_features': 4, 'n_estimators': 10}\n",
            "13.611929020768677 {'max_features': 4, 'n_estimators': 30}\n",
            "15.055791810162805 {'max_features': 7, 'n_estimators': 3}\n",
            "13.877634725285116 {'max_features': 7, 'n_estimators': 10}\n",
            "13.401258852450907 {'max_features': 7, 'n_estimators': 30}\n",
            "16.969138874591035 {'bootstrap': False, 'max_features': 2, 'n_estimators': 3}\n",
            "14.843097221243472 {'bootstrap': False, 'max_features': 2, 'n_estimators': 10}\n",
            "14.675844741761821 {'bootstrap': False, 'max_features': 2, 'n_estimators': 30}\n",
            "16.600709910577585 {'bootstrap': False, 'max_features': 3, 'n_estimators': 3}\n",
            "14.33726095108017 {'bootstrap': False, 'max_features': 3, 'n_estimators': 10}\n",
            "14.214005252762977 {'bootstrap': False, 'max_features': 3, 'n_estimators': 30}\n",
            "16.23156019713689 {'bootstrap': False, 'max_features': 4, 'n_estimators': 3}\n",
            "14.275448260239944 {'bootstrap': False, 'max_features': 4, 'n_estimators': 10}\n",
            "14.091988392834173 {'bootstrap': False, 'max_features': 4, 'n_estimators': 30}\n"
          ]
        }
      ],
      "source": [
        "cv_res = grid_search.cv_results_\n",
        "for mean_score,params in zip(cv_res['mean_test_score'],cv_res['params']):\n",
        "    print(np.sqrt(-mean_score), params)"
      ]
    },
    {
      "cell_type": "code",
      "execution_count": null,
      "id": "0c7d01ea",
      "metadata": {
        "id": "0c7d01ea",
        "outputId": "5707b4d2-b701-44c8-fe5e-f4aa7f28cbf6"
      },
      "outputs": [
        {
          "data": {
            "text/plain": [
              "array([0.0146926 , 0.02127414, 0.01672616, 0.02536225, 0.02800214,\n",
              "       0.02791659, 0.03518309, 0.02098242, 0.05023595, 0.12242715,\n",
              "       0.17188929, 0.46530821])"
            ]
          },
          "metadata": {},
          "output_type": "display_data"
        },
        {
          "data": {
            "text/plain": [
              "[(0.46530820932038675, 1),\n",
              " (0.17188929266488132, 'Skin_per_Age'),\n",
              " (0.12242715369271201, 'Press_per_Age'),\n",
              " (0.050235947992615014, 'Gluc_per_Press'),\n",
              " (0.03518309241305065, 'Age'),\n",
              " (0.028002136233547206, 'BMI'),\n",
              " (0.027916588771606753, 'DiabetesPedigreeFunction'),\n",
              " (0.025362254409817122, 'Insulin'),\n",
              " (0.02127414384991685, 'BloodPressure'),\n",
              " (0.020982424326928744, 'Outcome'),\n",
              " (0.01672615739322813, 'SkinThickness'),\n",
              " (0.014692598931309574, 'Pregnancies')]"
            ]
          },
          "metadata": {},
          "output_type": "display_data"
        }
      ],
      "source": [
        "feature_importances = grid_search.best_estimator_.feature_importances_\n",
        "display(feature_importances)\n",
        "extra_attributes = [\"Gluc_per_Press\", 'Press_per_Age', \"Skin_per_Age\"]\n",
        "cat_encoder = full_pipeline.named_transformers_['cat']\n",
        "cat_one_hot_attribs = list(cat_encoder.categories_[0])\n",
        "attributes = num_attributes + extra_attributes + cat_one_hot_attribs\n",
        "display(sorted(zip(feature_importances,attributes),reverse=True))"
      ]
    },
    {
      "cell_type": "code",
      "execution_count": null,
      "id": "fea61f07",
      "metadata": {
        "id": "fea61f07",
        "outputId": "e857a524-632a-4f17-839b-d832eb78cf19"
      },
      "outputs": [
        {
          "name": "stdout",
          "output_type": "stream",
          "text": [
            "12.108959391578518\n"
          ]
        }
      ],
      "source": [
        "final_model = grid_search.best_estimator_\n",
        "X_test = strat_test_set.drop('Glucose',axis=1)\n",
        "X_test = X_test.replace((np.inf, -np.inf, np.nan), 0).reset_index(drop=True)\n",
        "\n",
        "\n",
        "y_test = strat_test_set['Glucose'].copy()\n",
        "y_test = y_test.replace((np.inf, -np.inf, np.nan), 0).reset_index(drop=True)\n",
        "\n",
        "X_test_preprocessed = full_pipeline.transform(X_test)\n",
        "final_predictions = final_model.predict(X_test_preprocessed)\n",
        "final_mse = mean_squared_error(y_test,final_predictions)\n",
        "final_rmse = np.sqrt(final_mse)\n",
        "print(final_rmse)"
      ]
    },
    {
      "cell_type": "code",
      "execution_count": null,
      "id": "8e6bce5c",
      "metadata": {
        "id": "8e6bce5c",
        "outputId": "61d9b518-4595-44a9-ab7b-65e332fd2b8f"
      },
      "outputs": [
        {
          "data": {
            "text/plain": [
              "array([10.88588516, 13.21935321])"
            ]
          },
          "execution_count": 61,
          "metadata": {},
          "output_type": "execute_result"
        }
      ],
      "source": [
        "from scipy import stats\n",
        "\n",
        "confidence = 0.95\n",
        "\n",
        "squared_errors = (final_predictions - y_test) ** 2\n",
        "\n",
        "np.sqrt(stats.t.interval(confidence,len(squared_errors) - 1,loc = squared_errors.mean(),scale = stats.sem(squared_errors)))"
      ]
    },
    {
      "cell_type": "markdown",
      "source": [
        "Exercise1"
      ],
      "metadata": {
        "id": "FytJUa3HLGZr"
      },
      "id": "FytJUa3HLGZr"
    },
    {
      "cell_type": "code",
      "execution_count": null,
      "id": "dcce592a",
      "metadata": {
        "id": "dcce592a",
        "outputId": "83f33a4e-6b3d-4821-ac1c-a9a475f3fe8e"
      },
      "outputs": [
        {
          "name": "stdout",
          "output_type": "stream",
          "text": [
            "Raw estimations:\n",
            "Оценки: 30.83119254876065\n",
            "Среднее: 30.83119254876065\n",
            "Стандартное отклонение: 0.0\n",
            "cross val score\n",
            "Оценки: [31.57926982 29.77328371 29.97577001 29.67231298 35.00194989]\n",
            "Среднее: 31.200517279784684\n",
            "Стандартное отклонение: 2.0232030693086047\n"
          ]
        }
      ],
      "source": [
        "from sklearn.svm import SVR\n",
        "\n",
        "svr_model = SVR(kernel='rbf',gamma='scale',C = 0.1)\n",
        "svr_model.fit(data_prepared,diabetes_labels)\n",
        "print(\"Raw estimations:\")\n",
        "svr_squared_errors = mean_squared_error(diabetes_labels, svr_model.predict(data_prepared))\n",
        "svr_rmse_score = np.sqrt(svr_squared_errors)\n",
        "display_scores(svr_rmse_score)\n",
        "print(\"cross val score\")\n",
        "scores = cross_val_score(svr_model,data_prepared,diabetes_labels,scoring='neg_mean_squared_error')\n",
        "display_scores(np.sqrt(-scores))"
      ]
    },
    {
      "cell_type": "code",
      "execution_count": null,
      "id": "848d7a85",
      "metadata": {
        "id": "848d7a85",
        "outputId": "74f62a4d-fb2c-40ce-8af0-7cf7083266b4"
      },
      "outputs": [
        {
          "name": "stdout",
          "output_type": "stream",
          "text": [
            "29.844228133673347\n"
          ]
        }
      ],
      "source": [
        "svr_predictions = svr_model.predict(X_test_preprocessed)\n",
        "svr_mse = mean_squared_error(y_test,svr_predictions)\n",
        "svr_rmse = np.sqrt(svr_mse)\n",
        "print(svr_rmse)"
      ]
    },
    {
      "cell_type": "code",
      "execution_count": null,
      "id": "c962746c-294e-48b7-8312-a0c07f701e0c",
      "metadata": {
        "id": "c962746c-294e-48b7-8312-a0c07f701e0c",
        "outputId": "2b296b59-5927-41b4-e6ba-e7d9b3ba5a9d"
      },
      "outputs": [
        {
          "name": "stdout",
          "output_type": "stream",
          "text": [
            "Fitting 5 folds for each of 30 candidates, totalling 150 fits\n"
          ]
        },
        {
          "data": {
            "text/plain": [
              "GridSearchCV(cv=5, estimator=SVR(), n_jobs=-1,\n",
              "             param_grid=[{'C': [0.01, 0.1, 1, 10, 100], 'kernel': ['linear']},\n",
              "                         {'C': [0.01, 0.1, 1, 10, 100],\n",
              "                          'gamma': ['scale', 0.1, 0.01, 0.001, 0.0001],\n",
              "                          'kernel': ['rbf']}],\n",
              "             return_train_score=True, scoring='neg_mean_squared_error',\n",
              "             verbose=2)"
            ]
          },
          "execution_count": 66,
          "metadata": {},
          "output_type": "execute_result"
        }
      ],
      "source": [
        "svr_params = [\n",
        "    {\n",
        "        'kernel':['linear'], 'C':[0.01,0.1,1,10,100]\n",
        "    },\n",
        "    {\n",
        "        'kernel':['rbf'],'C':[0.01,0.1,1,10,100],'gamma':['scale',0.1,0.01,0.001,0.0001]\n",
        "    },\n",
        "]\n",
        "model = SVR()\n",
        "grid_search_svr = GridSearchCV(model,param_grid=svr_params,cv=5, scoring='neg_mean_squared_error',return_train_score=True,n_jobs= -1,verbose=2)\n",
        "grid_search_svr.fit(data_prepared,diabetes_labels)"
      ]
    },
    {
      "cell_type": "code",
      "execution_count": null,
      "id": "b0f282e3-96d2-4904-b781-76ba72fdd46d",
      "metadata": {
        "id": "b0f282e3-96d2-4904-b781-76ba72fdd46d",
        "outputId": "036e030d-85b8-4b9e-e02c-390b4615efe5"
      },
      "outputs": [
        {
          "data": {
            "text/plain": [
              "{'C': 100, 'kernel': 'linear'}"
            ]
          },
          "execution_count": 67,
          "metadata": {},
          "output_type": "execute_result"
        }
      ],
      "source": [
        "grid_search_svr.best_params_"
      ]
    },
    {
      "cell_type": "code",
      "execution_count": null,
      "id": "49ab8b38",
      "metadata": {
        "id": "49ab8b38",
        "outputId": "ac704114-1f26-43f7-fa89-9a966e9a49cf"
      },
      "outputs": [
        {
          "name": "stdout",
          "output_type": "stream",
          "text": [
            "29.966442892256776 {'C': 0.01, 'kernel': 'linear'}\n",
            "23.152107650788892 {'C': 0.1, 'kernel': 'linear'}\n",
            "16.967731400713934 {'C': 1, 'kernel': 'linear'}\n",
            "14.51364855628971 {'C': 10, 'kernel': 'linear'}\n",
            "12.91863315633116 {'C': 100, 'kernel': 'linear'}\n",
            "32.321075274428445 {'C': 0.01, 'gamma': 'scale', 'kernel': 'rbf'}\n",
            "32.318477286043475 {'C': 0.01, 'gamma': 0.1, 'kernel': 'rbf'}\n",
            "32.40313434411853 {'C': 0.01, 'gamma': 0.01, 'kernel': 'rbf'}\n",
            "32.44789632271664 {'C': 0.01, 'gamma': 0.001, 'kernel': 'rbf'}\n",
            "32.45334045480654 {'C': 0.01, 'gamma': 0.0001, 'kernel': 'rbf'}\n",
            "31.266045947413986 {'C': 0.1, 'gamma': 'scale', 'kernel': 'rbf'}\n",
            "31.239595468107158 {'C': 0.1, 'gamma': 0.1, 'kernel': 'rbf'}\n",
            "31.98322098328789 {'C': 0.1, 'gamma': 0.01, 'kernel': 'rbf'}\n",
            "32.39343295159044 {'C': 0.1, 'gamma': 0.001, 'kernel': 'rbf'}\n",
            "32.44778372992369 {'C': 0.1, 'gamma': 0.0001, 'kernel': 'rbf'}\n",
            "25.9759384483032 {'C': 1, 'gamma': 'scale', 'kernel': 'rbf'}\n",
            "25.86407492314743 {'C': 1, 'gamma': 0.1, 'kernel': 'rbf'}\n",
            "28.809827501611043 {'C': 1, 'gamma': 0.01, 'kernel': 'rbf'}\n",
            "31.904908682848593 {'C': 1, 'gamma': 0.001, 'kernel': 'rbf'}\n",
            "32.392311412981066 {'C': 1, 'gamma': 0.0001, 'kernel': 'rbf'}\n",
            "19.373886879752583 {'C': 10, 'gamma': 'scale', 'kernel': 'rbf'}\n",
            "19.177169814682877 {'C': 10, 'gamma': 0.1, 'kernel': 'rbf'}\n",
            "21.07488250453923 {'C': 10, 'gamma': 0.01, 'kernel': 'rbf'}\n",
            "28.42271012936437 {'C': 10, 'gamma': 0.001, 'kernel': 'rbf'}\n",
            "31.89665553145914 {'C': 10, 'gamma': 0.0001, 'kernel': 'rbf'}\n",
            "17.440215631864344 {'C': 100, 'gamma': 'scale', 'kernel': 'rbf'}\n",
            "17.14911084662103 {'C': 100, 'gamma': 0.1, 'kernel': 'rbf'}\n",
            "16.63269695471817 {'C': 100, 'gamma': 0.01, 'kernel': 'rbf'}\n",
            "20.663428322100188 {'C': 100, 'gamma': 0.001, 'kernel': 'rbf'}\n",
            "28.399568265386048 {'C': 100, 'gamma': 0.0001, 'kernel': 'rbf'}\n"
          ]
        }
      ],
      "source": [
        "cv_res = grid_search_svr.cv_results_\n",
        "for mean_score,params in zip(cv_res['mean_test_score'],cv_res['params']):\n",
        "    print(np.sqrt(-mean_score), params)"
      ]
    },
    {
      "cell_type": "code",
      "execution_count": null,
      "id": "d6a2b4aa",
      "metadata": {
        "id": "d6a2b4aa",
        "outputId": "a169b44d-c45c-46bb-d472-a58e3b5a83e8"
      },
      "outputs": [
        {
          "name": "stdout",
          "output_type": "stream",
          "text": [
            "RMSE Score:  12.91863315633116\n"
          ]
        }
      ],
      "source": [
        "negative_score = grid_search_svr.best_score_\n",
        "print(\"RMSE Score: \", np.sqrt(-negative_score))"
      ]
    },
    {
      "cell_type": "markdown",
      "source": [
        "Exercise2"
      ],
      "metadata": {
        "id": "uOhiW9t0LR54"
      },
      "id": "uOhiW9t0LR54"
    },
    {
      "cell_type": "code",
      "execution_count": null,
      "id": "400f5902",
      "metadata": {
        "id": "400f5902",
        "outputId": "baaf7ec3-c764-4a50-9090-43bf81ef4256"
      },
      "outputs": [
        {
          "data": {
            "text/plain": [
              "Pipeline(steps=[('preprocessing',\n",
              "                 Pipeline(steps=[('preprocessing',\n",
              "                                  ColumnTransformer(transformers=[('num',\n",
              "                                                                   Pipeline(steps=[('imputer',\n",
              "                                                                                    SimpleImputer(strategy='median')),\n",
              "                                                                                   ('std_scaler',\n",
              "                                                                                    StandardScaler())]),\n",
              "                                                                   ['Pregnancies',\n",
              "                                                                    'BloodPressure',\n",
              "                                                                    'SkinThickness',\n",
              "                                                                    'Insulin',\n",
              "                                                                    'BMI',\n",
              "                                                                    'DiabetesPedigreeFunction',\n",
              "                                                                    'Age',\n",
              "                                                                    'Outcome']),\n",
              "                                                                  ('cat',\n",
              "                                                                   OneHotEncoder(),\n",
              "                                                                   ['glucose_category'])])),\n",
              "                                 ('feature_selection',\n",
              "                                  TopFeatureSelection(feature_importance=array([0.0146926 , 0.02127414, 0.01672616, 0.02536225, 0.02800214,\n",
              "       0.02791659, 0.03518309, 0.02098242, 0.05023595, 0.12242715,\n",
              "       0.17188929, 0.46530821]),\n",
              "                                                      k=5))])),\n",
              "                ('model', LinearRegression())])"
            ]
          },
          "execution_count": 81,
          "metadata": {},
          "output_type": "execute_result"
        }
      ],
      "source": [
        "final_pipeline = Pipeline([\n",
        "    ('preprocessing', changed_pipeline),\n",
        "    ('model', LinearRegression())\n",
        "])\n",
        "\n",
        "final_pipeline.fit(data,diabetes_labels)"
      ]
    },
    {
      "cell_type": "code",
      "execution_count": null,
      "id": "dbf1a8fa",
      "metadata": {
        "id": "dbf1a8fa",
        "outputId": "991cd057-1375-4649-8259-e45cd85d202e"
      },
      "outputs": [
        {
          "name": "stdout",
          "output_type": "stream",
          "text": [
            "Predictions:  [ 87.09209081 123.4953035  120.30555047 121.36880148]\n",
            "Actual Predictions:  566     99\n",
            "703    129\n",
            "73     129\n",
            "46     146\n",
            "Name: Glucose, dtype: int64\n",
            "RMSE:  14.614969877351808\n"
          ]
        }
      ],
      "source": [
        "some_data = data[:4]\n",
        "some_labels = diabetes_labels[:4]\n",
        "predictions = final_pipeline.predict(some_data)\n",
        "print(\"Predictions: \",predictions)\n",
        "print(\"Actual Predictions: \",some_labels)\n",
        "mse = mean_squared_error(some_labels,predictions)\n",
        "rmse = np.sqrt(mse)\n",
        "print(\"RMSE: \", rmse)"
      ]
    },
    {
      "cell_type": "markdown",
      "source": [
        "Классификация"
      ],
      "metadata": {
        "id": "RuivydjfLWOP"
      },
      "id": "RuivydjfLWOP"
    },
    {
      "cell_type": "markdown",
      "id": "8330dc6e",
      "metadata": {
        "id": "8330dc6e"
      },
      "source": [
        "Фрейм данных с функциональными переменными  X.\n",
        "Фрейм с целевой переменной  Y"
      ]
    },
    {
      "cell_type": "code",
      "execution_count": null,
      "id": "8b42a4d8",
      "metadata": {
        "id": "8b42a4d8"
      },
      "outputs": [],
      "source": [
        "def load_diabetes_data(diabetes_path=DIABETES_PATH):\n",
        "    csv_path = os.path.join(diabetes_path,\"diabetes.csv\")\n",
        "    return pd.read_csv(csv_path)\n"
      ]
    },
    {
      "cell_type": "code",
      "execution_count": null,
      "id": "f48027a6",
      "metadata": {
        "id": "f48027a6"
      },
      "outputs": [],
      "source": [
        "X=df.drop('Outcome',axis=1)\n",
        "y=df['Outcome']"
      ]
    },
    {
      "cell_type": "markdown",
      "id": "27c3a786",
      "metadata": {
        "id": "27c3a786"
      },
      "source": [
        "Train_test_split от sklearn разделит фреймы данных объекта (X) и цели (y) на обучающий набор (80%) и тестовый набор (20%). Обучающий набор используется для построения классификационной модели, а тестовый набор используется для оценки производительности модели."
      ]
    },
    {
      "cell_type": "code",
      "execution_count": null,
      "id": "9e4889e9",
      "metadata": {
        "id": "9e4889e9"
      },
      "outputs": [],
      "source": [
        "from sklearn.model_selection import train_test_split\n",
        "X_train, X_test, y_train, y_test = train_test_split(X, y,test_size=0.2,random_state=0)"
      ]
    },
    {
      "cell_type": "markdown",
      "id": "063bd44f",
      "metadata": {
        "id": "063bd44f"
      },
      "source": [
        "Масштабируем переменные объектов нашего набора данных с помощью функции sklearn StandardScaler()"
      ]
    },
    {
      "cell_type": "code",
      "execution_count": null,
      "id": "60f8c68c",
      "metadata": {
        "id": "60f8c68c"
      },
      "outputs": [],
      "source": [
        "from sklearn.preprocessing import StandardScaler\n",
        "scaling_x=StandardScaler()\n",
        "X_train=scaling_x.fit_transform(X_train)\n",
        "X_test=scaling_x.transform(X_test)"
      ]
    },
    {
      "cell_type": "markdown",
      "source": [
        "Обучение"
      ],
      "metadata": {
        "id": "9Q0qFeuhMfYd"
      },
      "id": "9Q0qFeuhMfYd"
    },
    {
      "cell_type": "markdown",
      "id": "23fe74d5",
      "metadata": {
        "id": "23fe74d5"
      },
      "source": [
        "Будем использовать простую модель машинного обучения, называемую классификатором случайных лесов. Наша модель имеет точность классификации 78,6%."
      ]
    },
    {
      "cell_type": "code",
      "execution_count": null,
      "id": "7ef31de7",
      "metadata": {
        "id": "7ef31de7",
        "outputId": "fbe3a648-516f-4a04-c6b1-4ac40f495de6"
      },
      "outputs": [
        {
          "data": {
            "text/plain": [
              "0.7857142857142857"
            ]
          },
          "execution_count": 94,
          "metadata": {},
          "output_type": "execute_result"
        }
      ],
      "source": [
        "from sklearn.ensemble import RandomForestClassifier\n",
        "rfc = RandomForestClassifier()\n",
        "rfc.fit(X_train, y_train)\n",
        "rfc.predict(X_test)\n",
        "rfc.score(X_test, y_test)"
      ]
    },
    {
      "cell_type": "markdown",
      "id": "1c3f0427",
      "metadata": {
        "id": "1c3f0427"
      },
      "source": [
        "Метод \"случайного леса\""
      ]
    },
    {
      "cell_type": "markdown",
      "id": "27f3babc",
      "metadata": {
        "id": "27f3babc"
      },
      "source": [
        "Строим границу принятия решения для каждого из двух возможных признаков(график границ решения хорошо работает только с двумя функциями) и смотрим, насколько хорошо модель классифицирует пациентов."
      ]
    },
    {
      "cell_type": "code",
      "execution_count": null,
      "id": "66aa5fa9",
      "metadata": {
        "id": "66aa5fa9"
      },
      "outputs": [],
      "source": [
        "import mlxtend\n",
        "from mlxtend.frequent_patterns import apriori\n",
        "from mlxtend.frequent_patterns import association_rules\n"
      ]
    },
    {
      "cell_type": "code",
      "execution_count": null,
      "id": "5175f366",
      "metadata": {
        "id": "5175f366"
      },
      "outputs": [],
      "source": [
        "def classify_with_rfc(X,Y):\n",
        "    x = df[[X,Y]].values\n",
        "    y = df['Outcome'].astype(int).values\n",
        "    rfc = RandomForestClassifier()\n",
        "    rfc.fit(x,y)\n",
        "   \n",
        "    \n",
        "feat = ['Pregnancies', 'Glucose', 'BloodPressure', 'SkinThickness', 'Insulin','BMI', 'DiabetesPedigreeFunction', 'Age']\n",
        "size = len(feat)\n",
        "for i in range(0,size):\n",
        "    for j in range(i+1,size):\n",
        "        classify_with_rfc(feat[i],feat[j])"
      ]
    },
    {
      "cell_type": "markdown",
      "id": "25502b10",
      "metadata": {
        "id": "25502b10"
      },
      "source": [
        "Confusion matrix"
      ]
    },
    {
      "cell_type": "code",
      "execution_count": null,
      "id": "07b652b4",
      "metadata": {
        "id": "07b652b4"
      },
      "outputs": [],
      "source": [
        "from sklearn.metrics import confusion_matrix\n",
        "y_pred = rfc.predict(X_test)\n",
        "mat = confusion_matrix(y_test, y_pred)\n",
        "sns.heatmap(mat, annot=True)"
      ]
    },
    {
      "cell_type": "code",
      "execution_count": null,
      "id": "9af3e991",
      "metadata": {
        "id": "9af3e991",
        "outputId": "d16d6bfe-dd12-4522-b720-a70a7388c4c3"
      },
      "outputs": [
        {
          "name": "stdout",
          "output_type": "stream",
          "text": [
            "              precision    recall  f1-score   support\n",
            "\n",
            "    Diabetes       0.84      0.85      0.85       107\n",
            "      Normal       0.65      0.64      0.65        47\n",
            "\n",
            "    accuracy                           0.79       154\n",
            "   macro avg       0.75      0.74      0.75       154\n",
            "weighted avg       0.78      0.79      0.79       154\n",
            "\n"
          ]
        }
      ],
      "source": [
        "from sklearn.metrics import classification_report\n",
        "target_names = ['Diabetes', 'Normal']\n",
        "print(classification_report(y_test, y_pred, target_names=target_names))"
      ]
    },
    {
      "cell_type": "markdown",
      "id": "7a3a4afb",
      "metadata": {
        "id": "7a3a4afb"
      },
      "source": [
        "ROC curve"
      ]
    },
    {
      "cell_type": "code",
      "execution_count": null,
      "id": "430290d9",
      "metadata": {
        "id": "430290d9"
      },
      "outputs": [],
      "source": [
        "from sklearn.metrics import roc_curve\n",
        "y_pred_proba = rfc.predict_proba(X_test)[:,1]\n",
        "fpr, tpr, thresholds = roc_curve(y_test, y_pred_proba)\n"
      ]
    },
    {
      "cell_type": "code",
      "execution_count": null,
      "id": "b5cb89ad",
      "metadata": {
        "id": "b5cb89ad",
        "outputId": "4a5bcdff-1673-45a8-b17d-d2e65f33e3d2"
      },
      "outputs": [
        {
          "data": {
            "text/plain": [
              "0.8546430701928812"
            ]
          },
          "execution_count": 108,
          "metadata": {},
          "output_type": "execute_result"
        }
      ],
      "source": [
        "from sklearn.metrics import roc_auc_score\n",
        "roc_auc_score(y_test,y_pred_proba)"
      ]
    },
    {
      "cell_type": "markdown",
      "id": "ab286e4d",
      "metadata": {
        "id": "ab286e4d"
      },
      "source": [
        "Для нашей модели площадь под кривой (ROC AUC) составляет 85%. Модель классификации достаточно хороша для выявления пациента с диабетом"
      ]
    },
    {
      "cell_type": "markdown",
      "id": "f562b4d4",
      "metadata": {
        "id": "f562b4d4"
      },
      "source": [
        "Метод ближайших соседей"
      ]
    },
    {
      "cell_type": "code",
      "execution_count": null,
      "id": "763a0110",
      "metadata": {
        "id": "763a0110"
      },
      "outputs": [],
      "source": [
        "from sklearn.model_selection import train_test_split\n",
        "X_train,X_test,y_train,y_test = train_test_split(X,y,test_size=1/3,random_state=42, stratify=y)"
      ]
    },
    {
      "cell_type": "code",
      "execution_count": null,
      "id": "7c4a8060",
      "metadata": {
        "scrolled": true,
        "id": "7c4a8060"
      },
      "outputs": [],
      "source": [
        "from sklearn.neighbors import KNeighborsClassifier\n",
        "\n",
        "\n",
        "test_scores = []\n",
        "\n",
        "for i in range(1,15):\n",
        "\n",
        "    knn = KNeighborsClassifier(i)\n",
        "\n",
        "    test_scores.append(knn.score(X_test,y_test))"
      ]
    },
    {
      "cell_type": "markdown",
      "id": "37d58f1f",
      "metadata": {
        "id": "37d58f1f"
      },
      "source": [
        "Оценка, полученная в результате тестирования точек данных"
      ]
    },
    {
      "cell_type": "code",
      "execution_count": null,
      "id": "2df43f0a",
      "metadata": {
        "id": "2df43f0a",
        "outputId": "07dc1080-637b-4131-b028-f4bcad6bb88a"
      },
      "outputs": [
        {
          "name": "stdout",
          "output_type": "stream",
          "text": [
            "Max test score 75.78125 % and k = [7]\n"
          ]
        }
      ],
      "source": [
        "max_test_score = max(test_scores)\n",
        "test_scores_ind = [i for i, v in enumerate(test_scores) if v == max_test_score]\n",
        "print('Max test score {} % and k = {}'.format(max_test_score*100,list(map(lambda x: x+1, test_scores_ind))))"
      ]
    },
    {
      "cell_type": "markdown",
      "id": "7399ca16",
      "metadata": {
        "id": "7399ca16"
      },
      "source": [
        "Визуализация результатов"
      ]
    },
    {
      "cell_type": "code",
      "execution_count": null,
      "id": "4b639928",
      "metadata": {
        "id": "4b639928",
        "outputId": "970932cf-a75c-4792-8f80-ccc58f05c812"
      },
      "outputs": [
        {
          "name": "stderr",
          "output_type": "stream",
          "text": [
            "C:\\ProgramData\\Anaconda3\\lib\\site-packages\\seaborn\\_decorators.py:36: FutureWarning: Pass the following variables as keyword args: x, y. From version 0.12, the only valid positional argument will be `data`, and passing other arguments without an explicit keyword will result in an error or misinterpretation.\n",
            "  warnings.warn(\n",
            "C:\\ProgramData\\Anaconda3\\lib\\site-packages\\seaborn\\_decorators.py:36: FutureWarning: Pass the following variables as keyword args: x, y. From version 0.12, the only valid positional argument will be `data`, and passing other arguments without an explicit keyword will result in an error or misinterpretation.\n",
            "  warnings.warn(\n"
          ]
        },
        {
          "data": {
            "image/png": "[encoded data removed]",
            "text/plain": [
              "<Figure size 1200x500 with 1 Axes>"
            ]
          },
          "metadata": {},
          "output_type": "display_data"
        }
      ],
      "source": [
        "plt.figure(figsize=(12,5))\n",
        "p = sns.lineplot(range(1,15),train_scores,marker='*',label='Train Score')\n",
        "p = sns.lineplot(range(1,15),test_scores,marker='o',label='Test Score')"
      ]
    },
    {
      "cell_type": "markdown",
      "id": "d535c808",
      "metadata": {
        "id": "d535c808"
      },
      "source": [
        "Наилучший результат фиксируется при k = 7, следовательно, 7 используется для окончательной модели"
      ]
    },
    {
      "cell_type": "code",
      "execution_count": null,
      "id": "91e1e5fb",
      "metadata": {
        "id": "91e1e5fb",
        "outputId": "b38a867f-a106-41cb-eab8-7eee02816d58"
      },
      "outputs": [
        {
          "name": "stderr",
          "output_type": "stream",
          "text": [
            "C:\\ProgramData\\Anaconda3\\lib\\site-packages\\sklearn\\neighbors\\_classification.py:228: FutureWarning: Unlike other reduction functions (e.g. `skew`, `kurtosis`), the default behavior of `mode` typically preserves the axis it acts along. In SciPy 1.11.0, this behavior will change: the default value of `keepdims` will become False, the `axis` over which the statistic is taken will be eliminated, and the value None will no longer be accepted. Set `keepdims` to True or False to avoid this warning.\n",
            "  mode, _ = stats.mode(_y[neigh_ind, k], axis=1)\n"
          ]
        },
        {
          "data": {
            "text/plain": [
              "0.7578125"
            ]
          },
          "execution_count": 115,
          "metadata": {},
          "output_type": "execute_result"
        }
      ],
      "source": [
        "knn = KNeighborsClassifier(7)\n",
        "\n",
        "knn.fit(X_train,y_train)\n",
        "knn.score(X_test,y_test)"
      ]
    },
    {
      "cell_type": "markdown",
      "id": "a9057b41",
      "metadata": {
        "id": "a9057b41"
      },
      "source": [
        "Confusion Matrix"
      ]
    },
    {
      "cell_type": "markdown",
      "id": "5b8430dd",
      "metadata": {
        "id": "5b8430dd"
      },
      "source": [
        "Получим прогнозы"
      ]
    },
    {
      "cell_type": "code",
      "execution_count": null,
      "id": "585d72ba",
      "metadata": {
        "id": "585d72ba",
        "outputId": "92706f72-8d4a-4273-dc0f-b80c9e57a018"
      },
      "outputs": [
        {
          "name": "stderr",
          "output_type": "stream",
          "text": [
            "C:\\ProgramData\\Anaconda3\\lib\\site-packages\\sklearn\\neighbors\\_classification.py:228: FutureWarning: Unlike other reduction functions (e.g. `skew`, `kurtosis`), the default behavior of `mode` typically preserves the axis it acts along. In SciPy 1.11.0, this behavior will change: the default value of `keepdims` will become False, the `axis` over which the statistic is taken will be eliminated, and the value None will no longer be accepted. Set `keepdims` to True or False to avoid this warning.\n",
            "  mode, _ = stats.mode(_y[neigh_ind, k], axis=1)\n"
          ]
        },
        {
          "data": {
            "text/html": [
              "<div>\n",
              "<style scoped>\n",
              "    .dataframe tbody tr th:only-of-type {\n",
              "        vertical-align: middle;\n",
              "    }\n",
              "\n",
              "    .dataframe tbody tr th {\n",
              "        vertical-align: top;\n",
              "    }\n",
              "\n",
              "    .dataframe thead th {\n",
              "        text-align: right;\n",
              "    }\n",
              "</style>\n",
              "<table border=\"1\" class=\"dataframe\">\n",
              "  <thead>\n",
              "    <tr style=\"text-align: right;\">\n",
              "      <th>Predicted</th>\n",
              "      <th>0</th>\n",
              "      <th>1</th>\n",
              "      <th>All</th>\n",
              "    </tr>\n",
              "    <tr>\n",
              "      <th>True</th>\n",
              "      <th></th>\n",
              "      <th></th>\n",
              "      <th></th>\n",
              "    </tr>\n",
              "  </thead>\n",
              "  <tbody>\n",
              "    <tr>\n",
              "      <th>0</th>\n",
              "      <td>144</td>\n",
              "      <td>23</td>\n",
              "      <td>167</td>\n",
              "    </tr>\n",
              "    <tr>\n",
              "      <th>1</th>\n",
              "      <td>39</td>\n",
              "      <td>50</td>\n",
              "      <td>89</td>\n",
              "    </tr>\n",
              "    <tr>\n",
              "      <th>All</th>\n",
              "      <td>183</td>\n",
              "      <td>73</td>\n",
              "      <td>256</td>\n",
              "    </tr>\n",
              "  </tbody>\n",
              "</table>\n",
              "</div>"
            ],
            "text/plain": [
              "Predicted    0   1  All\n",
              "True                   \n",
              "0          144  23  167\n",
              "1           39  50   89\n",
              "All        183  73  256"
            ]
          },
          "execution_count": 117,
          "metadata": {},
          "output_type": "execute_result"
        }
      ],
      "source": [
        "from sklearn.metrics import confusion_matrix\n",
        "#let us get the predictions using the classifier we had fit above\n",
        "y_pred = knn.predict(X_test)\n",
        "confusion_matrix(y_test,y_pred)\n",
        "pd.crosstab(y_test, y_pred, rownames=['True'], colnames=['Predicted'], margins=True)"
      ]
    },
    {
      "cell_type": "markdown",
      "id": "81e78ccf",
      "metadata": {
        "id": "81e78ccf"
      },
      "source": [
        "ROC curve "
      ]
    },
    {
      "cell_type": "code",
      "execution_count": null,
      "id": "7ff2514a",
      "metadata": {
        "id": "7ff2514a"
      },
      "outputs": [],
      "source": [
        "from sklearn.metrics import roc_curve\n",
        "y_pred_proba = knn.predict_proba(X_test)[:,1]\n",
        "fpr, tpr, thresholds = roc_curve(y_test, y_pred_proba)"
      ]
    },
    {
      "cell_type": "code",
      "execution_count": null,
      "id": "3ebe5f81",
      "metadata": {
        "id": "3ebe5f81",
        "outputId": "36abad67-5a76-4c1c-bb45-e1a27c3a866a"
      },
      "outputs": [
        {
          "data": {
            "text/plain": [
              "0.7553656731480859"
            ]
          },
          "execution_count": 121,
          "metadata": {},
          "output_type": "execute_result"
        }
      ],
      "source": [
        "from sklearn.metrics import roc_auc_score\n",
        "roc_auc_score(y_test,y_pred_proba)"
      ]
    },
    {
      "cell_type": "markdown",
      "id": "3634144a",
      "metadata": {
        "id": "3634144a"
      },
      "source": [
        "Для нашей модели площадь под кривой (ROC AUC) составляет 75.5%. Модель классификации достаточно хороша для выявления пациента с диабетом"
      ]
    }
  ],
  "metadata": {
    "kernelspec": {
      "display_name": "Python 3 (ipykernel)",
      "language": "python",
      "name": "python3"
    },
    "language_info": {
      "codemirror_mode": {
        "name": "ipython",
        "version": 3
      },
      "file_extension": ".py",
      "mimetype": "text/x-python",
      "name": "python",
      "nbconvert_exporter": "python",
      "pygments_lexer": "ipython3",
      "version": "3.9.13"
    },
    "colab": {
      "provenance": [],
      "include_colab_link": true
    }
  },
  "nbformat": 4,
  "nbformat_minor": 5
}